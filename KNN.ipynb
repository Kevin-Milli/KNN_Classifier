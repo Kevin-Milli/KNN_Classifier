{
 "cells": [
  {
   "cell_type": "code",
   "execution_count": 1,
   "id": "984cf0ca-e8bd-4855-9d6e-be7f08241cb4",
   "metadata": {},
   "outputs": [],
   "source": [
    "import numpy as np\n",
    "from sklearn import datasets"
   ]
  },
  {
   "cell_type": "code",
   "execution_count": 11,
   "id": "ff1208f4-3e85-43ff-8502-e06fcbdda902",
   "metadata": {},
   "outputs": [],
   "source": [
    "class KNN:\n",
    "    def __init__(self, method='k',k=None, r=None, weight=False, distance_metric='euclidean'):\n",
    "        \"\"\"\n",
    "        distance_metric: str 'euclidean', 'manhattan', 'chebyshev'\n",
    "        k: str  k-nearest\n",
    "        r: str  radius\n",
    "        \"\"\"\n",
    "    \n",
    "        self.k = k\n",
    "        self.r = r\n",
    "        self.method = method\n",
    "        self.weight = weight\n",
    "        self.k_name = ['k','k_nearest']\n",
    "        self.r_name = ['r','radius','radius_nearest']\n",
    "        self.name = \"k\" if k else \"r\"\n",
    "        self.distance_metric = distance_metric\n",
    "    \n",
    "    def feed(self, X_tr, y_tr, seed=44):\n",
    "        \"\"\"\n",
    "        ---------------------------------------------------\n",
    "        Description: it takes an array and a vector and mixes them with the same order\n",
    "        ---------------------------------\n",
    "        Input:\n",
    "        X_tr: Matrix type.\n",
    "        y_tr: Vector type.\n",
    "        seed: Seed, like numpy.seed()\n",
    "        ---------------------------------\n",
    "        Output: \n",
    "        X,y\n",
    "        X is a matrix and y is vector shuflled with same order.\n",
    "        ---------------------------------------------------\n",
    "        \"\"\"\n",
    "        entropy = np.random.RandomState(seed)\n",
    "        index = np.array([i for i in range(len(X_tr))])\n",
    "        \n",
    "        entropy.shuffle(index)\n",
    "\n",
    "        X = X_tr[index]\n",
    "        y = y_tr[index]\n",
    "        \n",
    "        return X,y\n",
    "        \n",
    "    \n",
    "    def stack(self, X_tr, y_tr, test_percentage=.2):\n",
    "        \"\"\"\n",
    "        splits both dataset into train and test sets by the percentage passed as a parameter\n",
    "        if not included we are going to follow the 80/20 rule.\n",
    "        \n",
    "        test_percentage: single number between:(0,1) not included.\n",
    "        \n",
    "        Output: X_train, y_train, X_test, y_test (suddivisi secondo richiesta)\n",
    "        \"\"\"\n",
    "        idx = int(X_tr.shape[0] * test_percentage)\n",
    "        \n",
    "        X_train = X_tr[idx:]\n",
    "        y_train = y_tr[idx:]\n",
    "        \n",
    "        X_test = X_tr[:idx]\n",
    "        y_test = y_tr[:idx]\n",
    "        \n",
    "        return X_train,y_train,X_test,y_test\n",
    "    \n",
    "    def single_predict(self, X_tr, y_tr, x_test):\n",
    "        distance = np.array([])\n",
    "        \n",
    "        if self.distance_metric == 'euclidean':\n",
    "            for el in X_tr:\n",
    "                d = np.sqrt(np.sum((x_test - el)**2))\n",
    "                distance = np.append(distance, d)\n",
    "        elif self.distance_metric == 'manhattan':\n",
    "            for el in X_tr:\n",
    "                d = np.sum(np.abs(x_test - el))\n",
    "                distance = np.append(distance, d)\n",
    "        elif self.distance_metric == 'chebyshev':\n",
    "            for el in X_tr:\n",
    "                d = np.max(np.abs(x_test - el))\n",
    "                distance = np.append(distance, d)\n",
    "        \n",
    "        if self.method in self.k_name:\n",
    "            k_neighbors = np.argsort(distance)[:self.k]\n",
    "            \n",
    "            if self.weight:\n",
    "                weight = 1 / distance\n",
    "                occurrences = np.bincount(y_tr[k_neighbors], minlength=len(np.unique(y_tr)), weights=weight[k_neighbors])\n",
    "                new_pred = np.argmax(occurrences)\n",
    "            else:\n",
    "                occurrences = np.bincount(y_tr[k_neighbors], minlength=len(np.unique(y_tr)))\n",
    "                new_pred = np.argmax(occurrences)\n",
    "            \n",
    "            return new_pred\n",
    "        \n",
    "        elif self.method in self.r_name:\n",
    "            radius = distance < int(self.r)\n",
    "            \n",
    "            if self.weight:\n",
    "                weights = 1 / distance[radius]\n",
    "                occurrences = np.bincount(y_tr[radius], minlength=len(np.unique(y_tr)), weights=weights)\n",
    "                new_pred = np.argmax(occurrences)\n",
    "            else:\n",
    "                occurrences = np.bincount(y_tr[radius], minlength=len(np.unique(y_tr)))\n",
    "                new_pred = np.argmax(occurrences)\n",
    "            \n",
    "            return new_pred\n",
    "        \n",
    "    def best_fit(self, X, y, low=1, high=31, weight=True,list_prev=False,list_ytest=False):\n",
    "        \n",
    "        \"\"\" \n",
    "        IMPUT:\n",
    "        list_prev: if 'True' return the list of preisions based on the percentage\n",
    "        list_ytest: if 'True' return the list of y_test for each iteration\n",
    "        y_final_predict: is the basic output if nothing is set to True\n",
    "        -----------------------------------------------------------------------\n",
    "        ITERATION:\n",
    "        low= lowest limit \n",
    "        high= highest limit \n",
    "        --------------------------------------------------------------------\n",
    "        \n",
    "        OUTPUT: y_final_predict,percentage_previsions,list_of_ytest\n",
    "        ---------------------------------------------------------------------\n",
    "        \"\"\"\n",
    "        \n",
    "        tools = [list_prev,list_ytest]\n",
    "        fits = []\n",
    "        previsions = np.array([])\n",
    "        for i in range(low, high):\n",
    "            if self.method in self.r_name:\n",
    "                self.r = i\n",
    "                X_tr,y_tr = self.feed(X,y)\n",
    "                X_train,y_train,X_test,y_test = self.stack(X_tr, y_tr)\n",
    "                final_predict = self.knn_predict(X_test, X_train, y_train)\n",
    "                fits.append(final_predict)\n",
    "            elif self.method in self.k_name:\n",
    "                self.k = i\n",
    "                X_tr,y_tr = self.feed(X,y)\n",
    "                X_train,y_train,X_test,y_test = self.stack(X_tr, y_tr)\n",
    "                final_predict = self.knn_predict(X_test, X_train, y_train)\n",
    "                fits.append(final_predict)\n",
    "                \n",
    "        fits = np.array(fits)\n",
    "\n",
    "        for prevision in fits:\n",
    "            \n",
    "            x = np.round(np.mean(prevision==y_test),2)\n",
    "            previsions = np.append(previsions, x)\n",
    "            \n",
    "        best = np.max(previsions)\n",
    "        idx = np.argmax(previsions) + low\n",
    "            \n",
    "        print(f\"\"\"\n",
    "        In a range of {low}:{high} \n",
    "        The best fit  is with {self.name} = {idx} which have {best} percent of trueth\"\"\")\n",
    "        \n",
    "        if tools[0] and tools[1]:\n",
    "            return fits[idx],previsions,fits\n",
    "        elif tools[0]:\n",
    "            return fits[idx],previsions\n",
    "        elif tools[1]:\n",
    "            return fits[idx],fits\n",
    "        else:\n",
    "            return fits[idx]\n",
    "            \n",
    "        return fits[idx]\n",
    "        \n",
    "                \n",
    "    def knn_predict(self, X_tst, x_tr, y_tr):\n",
    "        \"\"\"\n",
    "        Extend the prediction to a set of points\n",
    "        \"\"\"\n",
    "        ser_pred = np.array([])\n",
    "        \n",
    "        for element in X_tst:\n",
    "            x = self.single_predict(x_tr, y_tr, element)\n",
    "            ser_pred = np.append(ser_pred, x)\n",
    "        return ser_pred\n",
    "    "
   ]
  },
  {
   "cell_type": "markdown",
   "id": "05a32a5b-86f5-4ea6-ae9d-b8c2dfa2d517",
   "metadata": {},
   "source": [
    "# Usage examples"
   ]
  },
  {
   "cell_type": "markdown",
   "id": "44c53029-6f4a-4d63-bac9-2022edd5bbd2",
   "metadata": {},
   "source": [
    "## 1) Iris Dataset"
   ]
  },
  {
   "cell_type": "markdown",
   "id": "d9ec081c-f8a8-413b-b2ee-6823fed191aa",
   "metadata": {},
   "source": [
    "### Found best r for the dataset"
   ]
  },
  {
   "cell_type": "code",
   "execution_count": 33,
   "id": "549e42e2-3d27-4d0f-b89f-bfb25d101ff9",
   "metadata": {},
   "outputs": [
    {
     "name": "stdout",
     "output_type": "stream",
     "text": [
      "\n",
      "        In a range of 1:31 \n",
      "        The best fit  is with r = 1 which have 0.97 percent of trueth\n"
     ]
    }
   ],
   "source": [
    "data = datasets.load_iris()\n",
    "X0 = data['data']\n",
    "y0 = data['target']\n",
    "knn_model_without_weight = KNN2(method='r', weight=True)\n",
    "final_predict = knn_model_without_weight.best_fit(X0,y0)"
   ]
  },
  {
   "cell_type": "markdown",
   "id": "e4918165-3ad7-4cab-8d3d-bb4634fcc99e",
   "metadata": {},
   "source": [
    "### Test The veracity of the found parameters"
   ]
  },
  {
   "cell_type": "code",
   "execution_count": 34,
   "id": "2739e91b",
   "metadata": {},
   "outputs": [],
   "source": [
    "final_model =  KNN2(method='r', r=1, weight=True)\n",
    "\n",
    "X_tr, y_tr = final_model.feed(X0,y0)\n",
    "X_train,y_train,X_test,y_test = final_model.stack(X_tr,y_tr)"
   ]
  },
  {
   "cell_type": "code",
   "execution_count": 35,
   "id": "bcd3c827-d719-4237-aeb6-8dfc60ec7843",
   "metadata": {},
   "outputs": [
    {
     "data": {
      "text/plain": [
       "((120, 4), (120,), (30, 4), (30,))"
      ]
     },
     "execution_count": 35,
     "metadata": {},
     "output_type": "execute_result"
    }
   ],
   "source": [
    "X_train.shape,y_train.shape,X_test.shape,y_test.shape"
   ]
  },
  {
   "cell_type": "code",
   "execution_count": 36,
   "id": "c95542d0-4026-4ff9-b2da-a2294dc34cc0",
   "metadata": {},
   "outputs": [],
   "source": [
    "final_predict = final_model.knn_predict(X_test, X_train, y_train)"
   ]
  },
  {
   "cell_type": "code",
   "execution_count": 37,
   "id": "839b7749-b60b-4ba1-b221-bfbdf3a1daaa",
   "metadata": {},
   "outputs": [],
   "source": [
    "residuals = final_predict - y_test"
   ]
  },
  {
   "cell_type": "code",
   "execution_count": 38,
   "id": "52378fae-8410-4c39-bf68-56b62ff5cea2",
   "metadata": {},
   "outputs": [
    {
     "name": "stdout",
     "output_type": "stream",
     "text": [
      "Test set score: 0.97\n"
     ]
    }
   ],
   "source": [
    "print(\"Test set score: {:.2f}\".format(np.mean(final_predict == y_test)))"
   ]
  },
  {
   "cell_type": "markdown",
   "id": "0341adc5-be51-43a0-9e48-e7de6cdf9ab9",
   "metadata": {},
   "source": [
    "## 2) Wine Dataset"
   ]
  },
  {
   "cell_type": "markdown",
   "id": "31bdd274-cd5c-45e7-a1e7-f60c8d03fad3",
   "metadata": {},
   "source": [
    "### Found best r for the dataset"
   ]
  },
  {
   "cell_type": "code",
   "execution_count": 12,
   "id": "7898f259",
   "metadata": {},
   "outputs": [
    {
     "name": "stdout",
     "output_type": "stream",
     "text": [
      "\n",
      "        In a range of 1:31 \n",
      "        The best fit  is with r = 14 which have 0.77 percent of trueth\n"
     ]
    }
   ],
   "source": [
    "data2 = datasets.load_wine()\n",
    "\n",
    "X = data2['data']\n",
    "y = data2['target']\n",
    "\n",
    "wine_model = KNN2(method='r', weight=True, distance_metric='chebyshev')\n",
    "\n",
    "best_fit = wine_model.best_fit(X,y)"
   ]
  },
  {
   "cell_type": "code",
   "execution_count": 13,
   "id": "03034d2b-794c-4c64-8ad7-8ef427d9b14e",
   "metadata": {},
   "outputs": [
    {
     "name": "stdout",
     "output_type": "stream",
     "text": [
      "\n",
      "        In a range of 1:31 \n",
      "        The best fit  is with r = 25 which have 0.77 percent of trueth\n"
     ]
    }
   ],
   "source": [
    "data2 = datasets.load_wine()\n",
    "\n",
    "X = data2['data']\n",
    "y = data2['target']\n",
    "\n",
    "wine_model = KNN2(method='r', weight=True, distance_metric='manhattan')\n",
    "\n",
    "best_fit = wine_model.best_fit(X,y)"
   ]
  },
  {
   "cell_type": "code",
   "execution_count": 14,
   "id": "74f213d5-b083-4564-aaca-e362f6222bab",
   "metadata": {},
   "outputs": [
    {
     "name": "stdout",
     "output_type": "stream",
     "text": [
      "\n",
      "        In a range of 1:31 \n",
      "        The best fit  is with r = 23 which have 0.77 percent of trueth\n"
     ]
    }
   ],
   "source": [
    "data2 = datasets.load_wine()\n",
    "\n",
    "X = data2['data']\n",
    "y = data2['target']\n",
    "\n",
    "wine_model = KNN2(method='r', weight=True, distance_metric='euclidean')\n",
    "\n",
    "best_fit = wine_model.best_fit(X,y)"
   ]
  },
  {
   "cell_type": "markdown",
   "id": "c2910d40-c854-435c-a341-069802117679",
   "metadata": {},
   "source": [
    "### Test The veracity of the found parameters"
   ]
  },
  {
   "cell_type": "code",
   "execution_count": 16,
   "id": "879c2976",
   "metadata": {},
   "outputs": [],
   "source": [
    "wine_knn_model = KNN2(method='r',r=23, weight=True)\n",
    "\n",
    "X0,y0 = wine_knn_model.feed(X,y)\n",
    "X_train,y_train,X_test,y_test = wine_knn_model.stack(X0,y0)"
   ]
  },
  {
   "cell_type": "code",
   "execution_count": 17,
   "id": "01dfcb95-9f9d-4f5e-b3e8-0a75fb380979",
   "metadata": {},
   "outputs": [
    {
     "data": {
      "text/plain": [
       "((35, 13), (143, 13), (35,), (143,))"
      ]
     },
     "execution_count": 17,
     "metadata": {},
     "output_type": "execute_result"
    }
   ],
   "source": [
    "# check for correct split\n",
    "X_test.shape,X_train.shape,y_test.shape,y_train.shape"
   ]
  },
  {
   "cell_type": "code",
   "execution_count": 18,
   "id": "e7b17e4a-4e0a-4be7-87d8-424eb05fc64c",
   "metadata": {},
   "outputs": [],
   "source": [
    "# final model\n",
    "wine_predict = wine_knn_model.knn_predict(X_test, X_train, y_train)"
   ]
  },
  {
   "cell_type": "code",
   "execution_count": 19,
   "id": "888b8486-a2a5-4c9b-9919-80f4db44d88b",
   "metadata": {},
   "outputs": [
    {
     "name": "stdout",
     "output_type": "stream",
     "text": [
      "Test set score: 0.77\n"
     ]
    }
   ],
   "source": [
    "print(\"Test set score: {:.2f}\".format(np.mean(wine_predict == y_test),2))"
   ]
  }
 ],
 "metadata": {
  "kernelspec": {
   "display_name": "Python 3 (ipykernel)",
   "language": "python",
   "name": "python3"
  },
  "language_info": {
   "codemirror_mode": {
    "name": "ipython",
    "version": 3
   },
   "file_extension": ".py",
   "mimetype": "text/x-python",
   "name": "python",
   "nbconvert_exporter": "python",
   "pygments_lexer": "ipython3",
   "version": "3.9.13"
  }
 },
 "nbformat": 4,
 "nbformat_minor": 5
}
